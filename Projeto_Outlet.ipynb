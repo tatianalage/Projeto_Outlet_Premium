{
  "cells": [
    {
      "cell_type": "code",
      "execution_count": 8,
      "metadata": {
        "id": "1XbugxJ4ZFaw"
      },
      "outputs": [],
      "source": [
        "import pandas as pd\n",
        "from sklearn.model_selection import train_test_split\n",
        "from sklearn.linear_model import LinearRegression\n",
        "from sklearn.ensemble import GradientBoostingRegressor, RandomForestRegressor\n",
        "from sklearn.neural_network import MLPRegressor\n",
        "from sklearn.metrics import mean_squared_error\n",
        "import warnings\n",
        "import numpy as np"
      ]
    },
    {
      "cell_type": "code",
      "execution_count": 16,
      "metadata": {
        "colab": {
          "base_uri": "https://localhost:8080/"
        },
        "id": "Dd53iXZ4U8FH",
        "outputId": "ac777bd2-0f2d-4cc6-9e90-47a59d12398a"
      },
      "outputs": [
        {
          "data": {
            "text/plain": [
              "{'Regressão Linear': 5615804.235092652,\n",
              " 'Gradient Boosting': 6108056.886356479,\n",
              " 'Neural Network': 35673675.84347872,\n",
              " 'Random Forest': 6949318.312419684}"
            ]
          },
          "execution_count": 16,
          "metadata": {},
          "output_type": "execute_result"
        }
      ],
      "source": [
        "# Carregar os dados do arquivo Excel\n",
        "dados = pd.read_excel(\"variaveis.xlsx\")\n",
        "\n",
        "# Limpar espaços em branco em colunas categóricas\n",
        "categoricas = ['Qntd_Finais_de_Semana', 'Feriados_Prolongados', 'Feriados_Meio_Semana', 'Ferias_Escolares', 'Datas_Sazonais', 'Datas_de_Liquidacao_Interna', 'Ressacas']\n",
        "\n",
        "for column in categoricas:\n",
        "    if dados[column].dtype == 'object':\n",
        "        dados[column] = dados[column].str.strip()  # Remover espaços em branco no início e no final\n",
        "\n",
        "# Separar as variáveis independentes (X) e a variável dependente (y)\n",
        "y = dados['Vendas']\n",
        "X = dados.drop(['Data', 'Vendas'], axis=1)\n",
        "\n",
        "# Dividir os dados em conjuntos de treinamento e teste\n",
        "X_train, X_test, y_train, y_test = train_test_split(X, y, test_size=0.2, random_state=0)\n",
        "\n",
        "# Inicializar um dicionário para armazenar os resultados dos modelos\n",
        "resultados = {}\n",
        "\n",
        "# Ignorar os avisos sobre os nomes das características\n",
        "warnings.filterwarnings(\"ignore\", category=UserWarning)\n",
        "\n",
        "# Regressão Linear\n",
        "regressao = LinearRegression()\n",
        "regressao.fit(X_train, y_train)\n",
        "y_pred_lr = regressao.predict(X_test)\n",
        "rmse_lr = mean_squared_error(y_test, y_pred_lr, squared=False)\n",
        "resultados['Regressão Linear'] = rmse_lr\n",
        "\n",
        "# Gradient Boosting\n",
        "gradient_boosting = GradientBoostingRegressor(random_state=0)\n",
        "gradient_boosting.fit(X_train, y_train)\n",
        "y_pred_gb = gradient_boosting.predict(X_test)\n",
        "rmse_gb = mean_squared_error(y_test, y_pred_gb, squared=False)\n",
        "resultados['Gradient Boosting'] = rmse_gb\n",
        "\n",
        "# Rede Neural\n",
        "redes_neurais = MLPRegressor(random_state=0, max_iter=1000)\n",
        "redes_neurais.fit(X_train, y_train)\n",
        "y_pred_mlp = redes_neurais.predict(X_test)\n",
        "rmse_mlp = mean_squared_error(y_test, y_pred_mlp, squared=False)\n",
        "resultados['Neural Network'] = rmse_mlp\n",
        "\n",
        "# Random Forest\n",
        "random_forest = RandomForestRegressor(random_state=0)\n",
        "random_forest.fit(X_train, y_train)\n",
        "y_pred_rf = random_forest.predict(X_test)\n",
        "rmse_rf = mean_squared_error(y_test, y_pred_rf, squared=False)\n",
        "resultados['Random Forest'] = rmse_rf\n",
        "\n",
        "# Imprimir os resultados dos modelos\n",
        "resultados\n"
      ]
    },
    {
      "cell_type": "markdown",
      "metadata": {
        "id": "-5XtoNedVkYA"
      },
      "source": [
        "Esse código realiza os seguintes passos:\n",
        "\n",
        "1) Leitura dos Dados: Carrega os dados de um arquivo Excel usando o Pandas. \n",
        "2) Limpeza de Dados: Remove espaços em branco no início e no final das colunas categóricas para evitar erros. \n",
        "3) Preparação dos Dados: Separa as variáveis independentes (X) e a variável dependente (y). \n",
        "Divisão dos Dados: Divide os dados em conjuntos de treinamento e teste.\n",
        "4) Modelagem e Avaliação: Treina modelos de Regressão Linear, Gradient Boosting, Rede Neural e Random Forest, e avalia o desempenho de cada modelo usando a raiz quadrada do erro médio quadrático (RMSE). \n",
        "5) Resultados: Armazena os resultados em um dicionário chamado resultados e imprime os resultados finais. \n",
        "\n",
        "Obs.\n",
        "Os resultados fornecem a avaliação do desempenho dos modelos treinados com base na métrica de raiz quadrada do erro médio quadrático (RMSE) nos dados de teste, indicando a precisão do modelo. Um RMSE mais baixo indica melhor desempenho. Nesse caso, os valores dos resultado indicam um baixo desempenho, para obter melhores resultados, recomenda-se a inserção de mais dados para o modelo entender melhor a estrutura subjacente dos dados e consequentemente melhorar sua capacidade de previsão."
      ]
    },
    {
      "cell_type": "code",
      "execution_count": 17,
      "metadata": {
        "colab": {
          "base_uri": "https://localhost:8080/"
        },
        "id": "-YLBdBNVVzFI",
        "outputId": "181926ed-6be4-4184-ca77-5cc284198d80"
      },
      "outputs": [
        {
          "name": "stdout",
          "output_type": "stream",
          "text": [
            "Previsões para Outubro de 2023:\n",
            "Linear Regression: 36406070.34\n",
            "Gradient Boosting: 33255332.03\n",
            "Neural Network: 1002.67\n",
            "Random Forest: 32666386.40\n",
            "\n",
            "Comparação com o Valor Real:\n",
            "Linear Regression: Erro Absoluto = 3727376.27\n",
            "Gradient Boosting: Erro Absoluto = 576637.96\n",
            "Neural Network: Erro Absoluto = 32677691.40\n",
            "Random Forest: Erro Absoluto = 12307.67\n"
          ]
        }
      ],
      "source": [
        "# Definir os valores para outubro de 2023\n",
        "valores_outubro_2023 = np.array([[5, 1, 0, 0, 1, 0, 0]])\n",
        "\n",
        "# Fazer previsões utilizando os modelos treinados\n",
        "pred_lr_outubro = regressao.predict(valores_outubro_2023)\n",
        "pred_gb_outubro = gradient_boosting.predict(valores_outubro_2023)\n",
        "pred_mlp_outubro = redes_neurais.predict(valores_outubro_2023)\n",
        "pred_rf_outubro = random_forest.predict(valores_outubro_2023)\n",
        "\n",
        "# Armazenar as previsões em um dicionário\n",
        "previsoes_outubro = {\n",
        "    'Linear Regression': pred_lr_outubro[0],\n",
        "    'Gradient Boosting': pred_gb_outubro[0],\n",
        "    'Neural Network': pred_mlp_outubro[0],\n",
        "    'Random Forest': pred_rf_outubro[0]\n",
        "}\n",
        "\n",
        "# Imprimir as previsões\n",
        "print(\"Previsões para Outubro de 2023:\")\n",
        "for modelo, previsao in previsoes_outubro.items():\n",
        "    print(f'{modelo}: {previsao:.2f}')\n",
        "\n",
        "# Comparar com o valor real de vendas\n",
        "valor_real_outubro = 32678694.07\n",
        "\n",
        "# Imprimir a comparação com o valor real\n",
        "print(\"\\nComparação com o Valor Real:\")\n",
        "for modelo, previsao in previsoes_outubro.items():\n",
        "    erro_absoluto = abs(previsao - valor_real_outubro)\n",
        "    print(f'{modelo}: Erro Absoluto = {erro_absoluto:.2f}')\n"
      ]
    },
    {
      "cell_type": "markdown",
      "metadata": {
        "id": "PaChnORcXu8Y"
      },
      "source": [
        "O modelo Random Forest foi o mais eficiente em prever os valores do faturamento total do Outlet, com um erro absoluto de aproximadamente 12,3 mil reais, apenas 0.04% em relação ao valor real de aproximidamente 32,6 milhões."
      ]
    },
    {
      "cell_type": "code",
      "execution_count": 18,
      "metadata": {
        "colab": {
          "base_uri": "https://localhost:8080/"
        },
        "id": "5_nC3LpweRDZ",
        "outputId": "17692b01-3aaa-4bbd-d3bf-a8ca253b6341"
      },
      "outputs": [
        {
          "name": "stdout",
          "output_type": "stream",
          "text": [
            "Previsões:\n",
            "Linear Regression: 36406070.34\n",
            "Gradient Boosting: 33255332.03\n",
            "Neural Network: 1002.67\n",
            "Random Forest: 32666386.40\n"
          ]
        }
      ],
      "source": [
        "def fazer_previsoes(valores, modelos):\n",
        "    # Fazer previsões utilizando os modelos treinados\n",
        "    previsoes = {}\n",
        "    for modelo, regressor in modelos.items():\n",
        "        predicao = regressor.predict(valores)\n",
        "        previsoes[modelo] = predicao[0]\n",
        "\n",
        "    # Imprimir as previsões\n",
        "    print(\"Previsões:\")\n",
        "    for modelo, previsao in previsoes.items():\n",
        "        print(f'{modelo}: {previsao:.2f}')\n",
        "\n",
        "    # Se desejar, você pode retornar as previsões para uso posterior\n",
        "    return previsoes\n",
        "\n",
        "# Exemplo de definição de modelos\n",
        "modelos = {\n",
        "    'Linear Regression': regressao,\n",
        "    'Gradient Boosting': gradient_boosting,\n",
        "    'Neural Network': redes_neurais,\n",
        "    'Random Forest': random_forest\n",
        "}\n",
        "\n",
        "# Exemplo de valores ['Qntd_Finais_de_Semana', 'Feriados_Prolongados', 'Feriados_Meio_Semana', 'Ferias_Escolares', 'Datas_Sazonais', 'Datas_de_Liquidacao_Interna', 'Ressacas']\n",
        "# 'Qntd_Finais_de_Semana': 4 ou 5\n",
        "# 'Feriados_Prolongados', 'Feriados_Meio_Semana', 'Ferias_Escolares', 'Datas_Sazonais', 'Datas_de_Liquidacao_Interna', 'Ressacas': 1 para Sim e 0 para Não\n",
        "\n",
        "valores_para_prever = np.array([[5, 1, 0, 0, 1, 0, 0]]) # Inserir aqui os valores\n",
        "\n",
        "# Fazer previsões para os valores fornecidos\n",
        "previsoes = fazer_previsoes(valores_para_prever, modelos)\n"
      ]
    }
  ],
  "metadata": {
    "colab": {
      "provenance": []
    },
    "kernelspec": {
      "display_name": "Python 3",
      "name": "python3"
    },
    "language_info": {
      "name": "python"
    }
  },
  "nbformat": 4,
  "nbformat_minor": 0
}
